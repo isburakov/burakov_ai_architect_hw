{
  "nbformat": 4,
  "nbformat_minor": 0,
  "metadata": {
    "colab": {
      "provenance": []
    },
    "kernelspec": {
      "name": "python3",
      "display_name": "Python 3"
    },
    "language_info": {
      "name": "python"
    }
  },
  "cells": [
    {
      "cell_type": "code",
      "execution_count": null,
      "metadata": {
        "id": "RcFAymGV7fZv"
      },
      "outputs": [],
      "source": [
        "from google.colab import files\n",
        "import pandas as pd\n",
        "from math import*"
      ]
    },
    {
      "cell_type": "code",
      "source": [
        "files.upload()"
      ],
      "metadata": {
        "colab": {
          "base_uri": "https://localhost:8080/",
          "height": 1000
        },
        "id": "CkxJmdWU9hSW",
        "outputId": "b00d8edf-09d5-478d-b0f9-709911d3ecf2"
      },
      "execution_count": null,
      "outputs": [
        {
          "output_type": "display_data",
          "data": {
            "text/plain": [
              "<IPython.core.display.HTML object>"
            ],
            "text/html": [
              "\n",
              "     <input type=\"file\" id=\"files-39923046-7729-4333-895a-4189a9d00448\" name=\"files[]\" multiple disabled\n",
              "        style=\"border:none\" />\n",
              "     <output id=\"result-39923046-7729-4333-895a-4189a9d00448\">\n",
              "      Upload widget is only available when the cell has been executed in the\n",
              "      current browser session. Please rerun this cell to enable.\n",
              "      </output>\n",
              "      <script>// Copyright 2017 Google LLC\n",
              "//\n",
              "// Licensed under the Apache License, Version 2.0 (the \"License\");\n",
              "// you may not use this file except in compliance with the License.\n",
              "// You may obtain a copy of the License at\n",
              "//\n",
              "//      http://www.apache.org/licenses/LICENSE-2.0\n",
              "//\n",
              "// Unless required by applicable law or agreed to in writing, software\n",
              "// distributed under the License is distributed on an \"AS IS\" BASIS,\n",
              "// WITHOUT WARRANTIES OR CONDITIONS OF ANY KIND, either express or implied.\n",
              "// See the License for the specific language governing permissions and\n",
              "// limitations under the License.\n",
              "\n",
              "/**\n",
              " * @fileoverview Helpers for google.colab Python module.\n",
              " */\n",
              "(function(scope) {\n",
              "function span(text, styleAttributes = {}) {\n",
              "  const element = document.createElement('span');\n",
              "  element.textContent = text;\n",
              "  for (const key of Object.keys(styleAttributes)) {\n",
              "    element.style[key] = styleAttributes[key];\n",
              "  }\n",
              "  return element;\n",
              "}\n",
              "\n",
              "// Max number of bytes which will be uploaded at a time.\n",
              "const MAX_PAYLOAD_SIZE = 100 * 1024;\n",
              "\n",
              "function _uploadFiles(inputId, outputId) {\n",
              "  const steps = uploadFilesStep(inputId, outputId);\n",
              "  const outputElement = document.getElementById(outputId);\n",
              "  // Cache steps on the outputElement to make it available for the next call\n",
              "  // to uploadFilesContinue from Python.\n",
              "  outputElement.steps = steps;\n",
              "\n",
              "  return _uploadFilesContinue(outputId);\n",
              "}\n",
              "\n",
              "// This is roughly an async generator (not supported in the browser yet),\n",
              "// where there are multiple asynchronous steps and the Python side is going\n",
              "// to poll for completion of each step.\n",
              "// This uses a Promise to block the python side on completion of each step,\n",
              "// then passes the result of the previous step as the input to the next step.\n",
              "function _uploadFilesContinue(outputId) {\n",
              "  const outputElement = document.getElementById(outputId);\n",
              "  const steps = outputElement.steps;\n",
              "\n",
              "  const next = steps.next(outputElement.lastPromiseValue);\n",
              "  return Promise.resolve(next.value.promise).then((value) => {\n",
              "    // Cache the last promise value to make it available to the next\n",
              "    // step of the generator.\n",
              "    outputElement.lastPromiseValue = value;\n",
              "    return next.value.response;\n",
              "  });\n",
              "}\n",
              "\n",
              "/**\n",
              " * Generator function which is called between each async step of the upload\n",
              " * process.\n",
              " * @param {string} inputId Element ID of the input file picker element.\n",
              " * @param {string} outputId Element ID of the output display.\n",
              " * @return {!Iterable<!Object>} Iterable of next steps.\n",
              " */\n",
              "function* uploadFilesStep(inputId, outputId) {\n",
              "  const inputElement = document.getElementById(inputId);\n",
              "  inputElement.disabled = false;\n",
              "\n",
              "  const outputElement = document.getElementById(outputId);\n",
              "  outputElement.innerHTML = '';\n",
              "\n",
              "  const pickedPromise = new Promise((resolve) => {\n",
              "    inputElement.addEventListener('change', (e) => {\n",
              "      resolve(e.target.files);\n",
              "    });\n",
              "  });\n",
              "\n",
              "  const cancel = document.createElement('button');\n",
              "  inputElement.parentElement.appendChild(cancel);\n",
              "  cancel.textContent = 'Cancel upload';\n",
              "  const cancelPromise = new Promise((resolve) => {\n",
              "    cancel.onclick = () => {\n",
              "      resolve(null);\n",
              "    };\n",
              "  });\n",
              "\n",
              "  // Wait for the user to pick the files.\n",
              "  const files = yield {\n",
              "    promise: Promise.race([pickedPromise, cancelPromise]),\n",
              "    response: {\n",
              "      action: 'starting',\n",
              "    }\n",
              "  };\n",
              "\n",
              "  cancel.remove();\n",
              "\n",
              "  // Disable the input element since further picks are not allowed.\n",
              "  inputElement.disabled = true;\n",
              "\n",
              "  if (!files) {\n",
              "    return {\n",
              "      response: {\n",
              "        action: 'complete',\n",
              "      }\n",
              "    };\n",
              "  }\n",
              "\n",
              "  for (const file of files) {\n",
              "    const li = document.createElement('li');\n",
              "    li.append(span(file.name, {fontWeight: 'bold'}));\n",
              "    li.append(span(\n",
              "        `(${file.type || 'n/a'}) - ${file.size} bytes, ` +\n",
              "        `last modified: ${\n",
              "            file.lastModifiedDate ? file.lastModifiedDate.toLocaleDateString() :\n",
              "                                    'n/a'} - `));\n",
              "    const percent = span('0% done');\n",
              "    li.appendChild(percent);\n",
              "\n",
              "    outputElement.appendChild(li);\n",
              "\n",
              "    const fileDataPromise = new Promise((resolve) => {\n",
              "      const reader = new FileReader();\n",
              "      reader.onload = (e) => {\n",
              "        resolve(e.target.result);\n",
              "      };\n",
              "      reader.readAsArrayBuffer(file);\n",
              "    });\n",
              "    // Wait for the data to be ready.\n",
              "    let fileData = yield {\n",
              "      promise: fileDataPromise,\n",
              "      response: {\n",
              "        action: 'continue',\n",
              "      }\n",
              "    };\n",
              "\n",
              "    // Use a chunked sending to avoid message size limits. See b/62115660.\n",
              "    let position = 0;\n",
              "    do {\n",
              "      const length = Math.min(fileData.byteLength - position, MAX_PAYLOAD_SIZE);\n",
              "      const chunk = new Uint8Array(fileData, position, length);\n",
              "      position += length;\n",
              "\n",
              "      const base64 = btoa(String.fromCharCode.apply(null, chunk));\n",
              "      yield {\n",
              "        response: {\n",
              "          action: 'append',\n",
              "          file: file.name,\n",
              "          data: base64,\n",
              "        },\n",
              "      };\n",
              "\n",
              "      let percentDone = fileData.byteLength === 0 ?\n",
              "          100 :\n",
              "          Math.round((position / fileData.byteLength) * 100);\n",
              "      percent.textContent = `${percentDone}% done`;\n",
              "\n",
              "    } while (position < fileData.byteLength);\n",
              "  }\n",
              "\n",
              "  // All done.\n",
              "  yield {\n",
              "    response: {\n",
              "      action: 'complete',\n",
              "    }\n",
              "  };\n",
              "}\n",
              "\n",
              "scope.google = scope.google || {};\n",
              "scope.google.colab = scope.google.colab || {};\n",
              "scope.google.colab._files = {\n",
              "  _uploadFiles,\n",
              "  _uploadFilesContinue,\n",
              "};\n",
              "})(self);\n",
              "</script> "
            ]
          },
          "metadata": {}
        },
        {
          "output_type": "stream",
          "name": "stdout",
          "text": [
            "Saving Sleep_health_and_lifestyle_dataset.csv to Sleep_health_and_lifestyle_dataset (1).csv\n"
          ]
        },
        {
          "output_type": "execute_result",
          "data": {
            "text/plain": [
              "{'Sleep_health_and_lifestyle_dataset (1).csv': b'Person ID,Gender,Age,Occupation,Sleep Duration,Quality of Sleep,Physical Activity Level,Stress Level,BMI Category,Blood Pressure,Heart Rate,Daily Steps,Sleep Disorder\\r\\n1,Male,27,Software Engineer,6.1,6,42,6,Overweight,126/83,77,4200,None\\r\\n2,Male,28,Doctor,6.2,6,60,8,Normal,125/80,75,10000,None\\r\\n3,Male,28,Doctor,6.2,6,60,8,Normal,125/80,75,10000,None\\r\\n4,Male,28,Sales Representative,5.9,4,30,8,Obese,140/90,85,3000,Sleep Apnea\\r\\n5,Male,28,Sales Representative,5.9,4,30,8,Obese,140/90,85,3000,Sleep Apnea\\r\\n6,Male,28,Software Engineer,5.9,4,30,8,Obese,140/90,85,3000,Insomnia\\r\\n7,Male,29,Teacher,6.3,6,40,7,Obese,140/90,82,3500,Insomnia\\r\\n8,Male,29,Doctor,7.8,7,75,6,Normal,120/80,70,8000,None\\r\\n9,Male,29,Doctor,7.8,7,75,6,Normal,120/80,70,8000,None\\r\\n10,Male,29,Doctor,7.8,7,75,6,Normal,120/80,70,8000,None\\r\\n11,Male,29,Doctor,6.1,6,30,8,Normal,120/80,70,8000,None\\r\\n12,Male,29,Doctor,7.8,7,75,6,Normal,120/80,70,8000,None\\r\\n13,Male,29,Doctor,6.1,6,30,8,Normal,120/80,70,8000,None\\r\\n14,Male,29,Doctor,6,6,30,8,Normal,120/80,70,8000,None\\r\\n15,Male,29,Doctor,6,6,30,8,Normal,120/80,70,8000,None\\r\\n16,Male,29,Doctor,6,6,30,8,Normal,120/80,70,8000,None\\r\\n17,Female,29,Nurse,6.5,5,40,7,Normal Weight,132/87,80,4000,Sleep Apnea\\r\\n18,Male,29,Doctor,6,6,30,8,Normal,120/80,70,8000,Sleep Apnea\\r\\n19,Female,29,Nurse,6.5,5,40,7,Normal Weight,132/87,80,4000,Insomnia\\r\\n20,Male,30,Doctor,7.6,7,75,6,Normal,120/80,70,8000,None\\r\\n21,Male,30,Doctor,7.7,7,75,6,Normal,120/80,70,8000,None\\r\\n22,Male,30,Doctor,7.7,7,75,6,Normal,120/80,70,8000,None\\r\\n23,Male,30,Doctor,7.7,7,75,6,Normal,120/80,70,8000,None\\r\\n24,Male,30,Doctor,7.7,7,75,6,Normal,120/80,70,8000,None\\r\\n25,Male,30,Doctor,7.8,7,75,6,Normal,120/80,70,8000,None\\r\\n26,Male,30,Doctor,7.9,7,75,6,Normal,120/80,70,8000,None\\r\\n27,Male,30,Doctor,7.8,7,75,6,Normal,120/80,70,8000,None\\r\\n28,Male,30,Doctor,7.9,7,75,6,Normal,120/80,70,8000,None\\r\\n29,Male,30,Doctor,7.9,7,75,6,Normal,120/80,70,8000,None\\r\\n30,Male,30,Doctor,7.9,7,75,6,Normal,120/80,70,8000,None\\r\\n31,Female,30,Nurse,6.4,5,35,7,Normal Weight,130/86,78,4100,Sleep Apnea\\r\\n32,Female,30,Nurse,6.4,5,35,7,Normal Weight,130/86,78,4100,Insomnia\\r\\n33,Female,31,Nurse,7.9,8,75,4,Normal Weight,117/76,69,6800,None\\r\\n34,Male,31,Doctor,6.1,6,30,8,Normal,125/80,72,5000,None\\r\\n35,Male,31,Doctor,7.7,7,75,6,Normal,120/80,70,8000,None\\r\\n36,Male,31,Doctor,6.1,6,30,8,Normal,125/80,72,5000,None\\r\\n37,Male,31,Doctor,6.1,6,30,8,Normal,125/80,72,5000,None\\r\\n38,Male,31,Doctor,7.6,7,75,6,Normal,120/80,70,8000,None\\r\\n39,Male,31,Doctor,7.6,7,75,6,Normal,120/80,70,8000,None\\r\\n40,Male,31,Doctor,7.6,7,75,6,Normal,120/80,70,8000,None\\r\\n41,Male,31,Doctor,7.7,7,75,6,Normal,120/80,70,8000,None\\r\\n42,Male,31,Doctor,7.7,7,75,6,Normal,120/80,70,8000,None\\r\\n43,Male,31,Doctor,7.7,7,75,6,Normal,120/80,70,8000,None\\r\\n44,Male,31,Doctor,7.8,7,75,6,Normal,120/80,70,8000,None\\r\\n45,Male,31,Doctor,7.7,7,75,6,Normal,120/80,70,8000,None\\r\\n46,Male,31,Doctor,7.8,7,75,6,Normal,120/80,70,8000,None\\r\\n47,Male,31,Doctor,7.7,7,75,6,Normal,120/80,70,8000,None\\r\\n48,Male,31,Doctor,7.8,7,75,6,Normal,120/80,70,8000,None\\r\\n49,Male,31,Doctor,7.7,7,75,6,Normal,120/80,70,8000,None\\r\\n50,Male,31,Doctor,7.7,7,75,6,Normal,120/80,70,8000,Sleep Apnea\\r\\n51,Male,32,Engineer,7.5,8,45,3,Normal,120/80,70,8000,None\\r\\n52,Male,32,Engineer,7.5,8,45,3,Normal,120/80,70,8000,None\\r\\n53,Male,32,Doctor,6,6,30,8,Normal,125/80,72,5000,None\\r\\n54,Male,32,Doctor,7.6,7,75,6,Normal,120/80,70,8000,None\\r\\n55,Male,32,Doctor,6,6,30,8,Normal,125/80,72,5000,None\\r\\n56,Male,32,Doctor,6,6,30,8,Normal,125/80,72,5000,None\\r\\n57,Male,32,Doctor,7.7,7,75,6,Normal,120/80,70,8000,None\\r\\n58,Male,32,Doctor,6,6,30,8,Normal,125/80,72,5000,None\\r\\n59,Male,32,Doctor,6,6,30,8,Normal,125/80,72,5000,None\\r\\n60,Male,32,Doctor,7.7,7,75,6,Normal,120/80,70,8000,None\\r\\n61,Male,32,Doctor,6,6,30,8,Normal,125/80,72,5000,None\\r\\n62,Male,32,Doctor,6,6,30,8,Normal,125/80,72,5000,None\\r\\n63,Male,32,Doctor,6.2,6,30,8,Normal,125/80,72,5000,None\\r\\n64,Male,32,Doctor,6.2,6,30,8,Normal,125/80,72,5000,None\\r\\n65,Male,32,Doctor,6.2,6,30,8,Normal,125/80,72,5000,None\\r\\n66,Male,32,Doctor,6.2,6,30,8,Normal,125/80,72,5000,None\\r\\n67,Male,32,Accountant,7.2,8,50,6,Normal Weight,118/76,68,7000,None\\r\\n68,Male,33,Doctor,6,6,30,8,Normal,125/80,72,5000,Insomnia\\r\\n69,Female,33,Scientist,6.2,6,50,6,Overweight,128/85,76,5500,None\\r\\n70,Female,33,Scientist,6.2,6,50,6,Overweight,128/85,76,5500,None\\r\\n71,Male,33,Doctor,6.1,6,30,8,Normal,125/80,72,5000,None\\r\\n72,Male,33,Doctor,6.1,6,30,8,Normal,125/80,72,5000,None\\r\\n73,Male,33,Doctor,6.1,6,30,8,Normal,125/80,72,5000,None\\r\\n74,Male,33,Doctor,6.1,6,30,8,Normal,125/80,72,5000,None\\r\\n75,Male,33,Doctor,6,6,30,8,Normal,125/80,72,5000,None\\r\\n76,Male,33,Doctor,6,6,30,8,Normal,125/80,72,5000,None\\r\\n77,Male,33,Doctor,6,6,30,8,Normal,125/80,72,5000,None\\r\\n78,Male,33,Doctor,6,6,30,8,Normal,125/80,72,5000,None\\r\\n79,Male,33,Doctor,6,6,30,8,Normal,125/80,72,5000,None\\r\\n80,Male,33,Doctor,6,6,30,8,Normal,125/80,72,5000,None\\r\\n81,Female,34,Scientist,5.8,4,32,8,Overweight,131/86,81,5200,Sleep Apnea\\r\\n82,Female,34,Scientist,5.8,4,32,8,Overweight,131/86,81,5200,Sleep Apnea\\r\\n83,Male,35,Teacher,6.7,7,40,5,Overweight,128/84,70,5600,None\\r\\n84,Male,35,Teacher,6.7,7,40,5,Overweight,128/84,70,5600,None\\r\\n85,Male,35,Software Engineer,7.5,8,60,5,Normal Weight,120/80,70,8000,None\\r\\n86,Female,35,Accountant,7.2,8,60,4,Normal,115/75,68,7000,None\\r\\n87,Male,35,Engineer,7.2,8,60,4,Normal,125/80,65,5000,None\\r\\n88,Male,35,Engineer,7.2,8,60,4,Normal,125/80,65,5000,None\\r\\n89,Male,35,Engineer,7.3,8,60,4,Normal,125/80,65,5000,None\\r\\n90,Male,35,Engineer,7.3,8,60,4,Normal,125/80,65,5000,None\\r\\n91,Male,35,Engineer,7.3,8,60,4,Normal,125/80,65,5000,None\\r\\n92,Male,35,Engineer,7.3,8,60,4,Normal,125/80,65,5000,None\\r\\n93,Male,35,Software Engineer,7.5,8,60,5,Normal Weight,120/80,70,8000,None\\r\\n94,Male,35,Lawyer,7.4,7,60,5,Obese,135/88,84,3300,Sleep Apnea\\r\\n95,Female,36,Accountant,7.2,8,60,4,Normal,115/75,68,7000,Insomnia\\r\\n96,Female,36,Accountant,7.1,8,60,4,Normal,115/75,68,7000,None\\r\\n97,Female,36,Accountant,7.2,8,60,4,Normal,115/75,68,7000,None\\r\\n98,Female,36,Accountant,7.1,8,60,4,Normal,115/75,68,7000,None\\r\\n99,Female,36,Teacher,7.1,8,60,4,Normal,115/75,68,7000,None\\r\\n100,Female,36,Teacher,7.1,8,60,4,Normal,115/75,68,7000,None\\r\\n101,Female,36,Teacher,7.2,8,60,4,Normal,115/75,68,7000,None\\r\\n102,Female,36,Teacher,7.2,8,60,4,Normal,115/75,68,7000,None\\r\\n103,Female,36,Teacher,7.2,8,60,4,Normal,115/75,68,7000,None\\r\\n104,Male,36,Teacher,6.6,5,35,7,Overweight,129/84,74,4800,Sleep Apnea\\r\\n105,Female,36,Teacher,7.2,8,60,4,Normal,115/75,68,7000,Sleep Apnea\\r\\n106,Male,36,Teacher,6.6,5,35,7,Overweight,129/84,74,4800,Insomnia\\r\\n107,Female,37,Nurse,6.1,6,42,6,Overweight,126/83,77,4200,None\\r\\n108,Male,37,Engineer,7.8,8,70,4,Normal Weight,120/80,68,7000,None\\r\\n109,Male,37,Engineer,7.8,8,70,4,Normal Weight,120/80,68,7000,None\\r\\n110,Male,37,Lawyer,7.4,8,60,5,Normal,130/85,68,8000,None\\r\\n111,Female,37,Accountant,7.2,8,60,4,Normal,115/75,68,7000,None\\r\\n112,Male,37,Lawyer,7.4,8,60,5,Normal,130/85,68,8000,None\\r\\n113,Female,37,Accountant,7.2,8,60,4,Normal,115/75,68,7000,None\\r\\n114,Male,37,Lawyer,7.4,8,60,5,Normal,130/85,68,8000,None\\r\\n115,Female,37,Accountant,7.2,8,60,4,Normal,115/75,68,7000,None\\r\\n116,Female,37,Accountant,7.2,8,60,4,Normal,115/75,68,7000,None\\r\\n117,Female,37,Accountant,7.2,8,60,4,Normal,115/75,68,7000,None\\r\\n118,Female,37,Accountant,7.2,8,60,4,Normal,115/75,68,7000,None\\r\\n119,Female,37,Accountant,7.2,8,60,4,Normal,115/75,68,7000,None\\r\\n120,Female,37,Accountant,7.2,8,60,4,Normal,115/75,68,7000,None\\r\\n121,Female,37,Accountant,7.2,8,60,4,Normal,115/75,68,7000,None\\r\\n122,Female,37,Accountant,7.2,8,60,4,Normal,115/75,68,7000,None\\r\\n123,Female,37,Accountant,7.2,8,60,4,Normal,115/75,68,7000,None\\r\\n124,Female,37,Accountant,7.2,8,60,4,Normal,115/75,68,7000,None\\r\\n125,Female,37,Accountant,7.2,8,60,4,Normal,115/75,68,7000,None\\r\\n126,Female,37,Nurse,7.5,8,60,4,Normal Weight,120/80,70,8000,None\\r\\n127,Male,38,Lawyer,7.3,8,60,5,Normal,130/85,68,8000,None\\r\\n128,Female,38,Accountant,7.1,8,60,4,Normal,115/75,68,7000,None\\r\\n129,Male,38,Lawyer,7.3,8,60,5,Normal,130/85,68,8000,None\\r\\n130,Male,38,Lawyer,7.3,8,60,5,Normal,130/85,68,8000,None\\r\\n131,Female,38,Accountant,7.1,8,60,4,Normal,115/75,68,7000,None\\r\\n132,Male,38,Lawyer,7.3,8,60,5,Normal,130/85,68,8000,None\\r\\n133,Male,38,Lawyer,7.3,8,60,5,Normal,130/85,68,8000,None\\r\\n134,Female,38,Accountant,7.1,8,60,4,Normal,115/75,68,7000,None\\r\\n135,Male,38,Lawyer,7.3,8,60,5,Normal,130/85,68,8000,None\\r\\n136,Male,38,Lawyer,7.3,8,60,5,Normal,130/85,68,8000,None\\r\\n137,Female,38,Accountant,7.1,8,60,4,Normal,115/75,68,7000,None\\r\\n138,Male,38,Lawyer,7.1,8,60,5,Normal,130/85,68,8000,None\\r\\n139,Female,38,Accountant,7.1,8,60,4,Normal,115/75,68,7000,None\\r\\n140,Male,38,Lawyer,7.1,8,60,5,Normal,130/85,68,8000,None\\r\\n141,Female,38,Accountant,7.1,8,60,4,Normal,115/75,68,7000,None\\r\\n142,Male,38,Lawyer,7.1,8,60,5,Normal,130/85,68,8000,None\\r\\n143,Female,38,Accountant,7.1,8,60,4,Normal,115/75,68,7000,None\\r\\n144,Female,38,Accountant,7.1,8,60,4,Normal,115/75,68,7000,None\\r\\n145,Male,38,Lawyer,7.1,8,60,5,Normal,130/85,68,8000,Sleep Apnea\\r\\n146,Female,38,Lawyer,7.4,7,60,5,Obese,135/88,84,3300,Sleep Apnea\\r\\n147,Male,39,Lawyer,7.2,8,60,5,Normal,130/85,68,8000,Insomnia\\r\\n148,Male,39,Engineer,6.5,5,40,7,Overweight,132/87,80,4000,Insomnia\\r\\n149,Female,39,Lawyer,6.9,7,50,6,Normal Weight,128/85,75,5500,None\\r\\n150,Female,39,Accountant,8,9,80,3,Normal Weight,115/78,67,7500,None\\r\\n151,Female,39,Accountant,8,9,80,3,Normal Weight,115/78,67,7500,None\\r\\n152,Male,39,Lawyer,7.2,8,60,5,Normal,130/85,68,8000,None\\r\\n153,Male,39,Lawyer,7.2,8,60,5,Normal,130/85,68,8000,None\\r\\n154,Male,39,Lawyer,7.2,8,60,5,Normal,130/85,68,8000,None\\r\\n155,Male,39,Lawyer,7.2,8,60,5,Normal,130/85,68,8000,None\\r\\n156,Male,39,Lawyer,7.2,8,60,5,Normal,130/85,68,8000,None\\r\\n157,Male,39,Lawyer,7.2,8,60,5,Normal,130/85,68,8000,None\\r\\n158,Male,39,Lawyer,7.2,8,60,5,Normal,130/85,68,8000,None\\r\\n159,Male,39,Lawyer,7.2,8,60,5,Normal,130/85,68,8000,None\\r\\n160,Male,39,Lawyer,7.2,8,60,5,Normal,130/85,68,8000,None\\r\\n161,Male,39,Lawyer,7.2,8,60,5,Normal,130/85,68,8000,None\\r\\n162,Female,40,Accountant,7.2,8,55,6,Normal Weight,119/77,73,7300,None\\r\\n163,Female,40,Accountant,7.2,8,55,6,Normal Weight,119/77,73,7300,None\\r\\n164,Male,40,Lawyer,7.9,8,90,5,Normal,130/85,68,8000,None\\r\\n165,Male,40,Lawyer,7.9,8,90,5,Normal,130/85,68,8000,None\\r\\n166,Male,41,Lawyer,7.6,8,90,5,Normal,130/85,70,8000,Insomnia\\r\\n167,Male,41,Engineer,7.3,8,70,6,Normal Weight,121/79,72,6200,None\\r\\n168,Male,41,Lawyer,7.1,7,55,6,Overweight,125/82,72,6000,None\\r\\n169,Male,41,Lawyer,7.1,7,55,6,Overweight,125/82,72,6000,None\\r\\n170,Male,41,Lawyer,7.7,8,90,5,Normal,130/85,70,8000,None\\r\\n171,Male,41,Lawyer,7.7,8,90,5,Normal,130/85,70,8000,None\\r\\n172,Male,41,Lawyer,7.7,8,90,5,Normal,130/85,70,8000,None\\r\\n173,Male,41,Lawyer,7.7,8,90,5,Normal,130/85,70,8000,None\\r\\n174,Male,41,Lawyer,7.7,8,90,5,Normal,130/85,70,8000,None\\r\\n175,Male,41,Lawyer,7.6,8,90,5,Normal,130/85,70,8000,None\\r\\n176,Male,41,Lawyer,7.6,8,90,5,Normal,130/85,70,8000,None\\r\\n177,Male,41,Lawyer,7.6,8,90,5,Normal,130/85,70,8000,None\\r\\n178,Male,42,Salesperson,6.5,6,45,7,Overweight,130/85,72,6000,Insomnia\\r\\n179,Male,42,Lawyer,7.8,8,90,5,Normal,130/85,70,8000,None\\r\\n180,Male,42,Lawyer,7.8,8,90,5,Normal,130/85,70,8000,None\\r\\n181,Male,42,Lawyer,7.8,8,90,5,Normal,130/85,70,8000,None\\r\\n182,Male,42,Lawyer,7.8,8,90,5,Normal,130/85,70,8000,None\\r\\n183,Male,42,Lawyer,7.8,8,90,5,Normal,130/85,70,8000,None\\r\\n184,Male,42,Lawyer,7.8,8,90,5,Normal,130/85,70,8000,None\\r\\n185,Female,42,Teacher,6.8,6,45,7,Overweight,130/85,78,5000,Sleep Apnea\\r\\n186,Female,42,Teacher,6.8,6,45,7,Overweight,130/85,78,5000,Sleep Apnea\\r\\n187,Female,43,Teacher,6.7,7,45,4,Overweight,135/90,65,6000,Insomnia\\r\\n188,Male,43,Salesperson,6.3,6,45,7,Overweight,130/85,72,6000,Insomnia\\r\\n189,Female,43,Teacher,6.7,7,45,4,Overweight,135/90,65,6000,Insomnia\\r\\n190,Male,43,Salesperson,6.5,6,45,7,Overweight,130/85,72,6000,Insomnia\\r\\n191,Female,43,Teacher,6.7,7,45,4,Overweight,135/90,65,6000,Insomnia\\r\\n192,Male,43,Salesperson,6.4,6,45,7,Overweight,130/85,72,6000,Insomnia\\r\\n193,Male,43,Salesperson,6.5,6,45,7,Overweight,130/85,72,6000,Insomnia\\r\\n194,Male,43,Salesperson,6.5,6,45,7,Overweight,130/85,72,6000,Insomnia\\r\\n195,Male,43,Salesperson,6.5,6,45,7,Overweight,130/85,72,6000,Insomnia\\r\\n196,Male,43,Salesperson,6.5,6,45,7,Overweight,130/85,72,6000,Insomnia\\r\\n197,Male,43,Salesperson,6.5,6,45,7,Overweight,130/85,72,6000,Insomnia\\r\\n198,Male,43,Salesperson,6.5,6,45,7,Overweight,130/85,72,6000,Insomnia\\r\\n199,Male,43,Salesperson,6.5,6,45,7,Overweight,130/85,72,6000,Insomnia\\r\\n200,Male,43,Salesperson,6.5,6,45,7,Overweight,130/85,72,6000,Insomnia\\r\\n201,Male,43,Salesperson,6.5,6,45,7,Overweight,130/85,72,6000,Insomnia\\r\\n202,Male,43,Engineer,7.8,8,90,5,Normal,130/85,70,8000,Insomnia\\r\\n203,Male,43,Engineer,7.8,8,90,5,Normal,130/85,70,8000,Insomnia\\r\\n204,Male,43,Engineer,6.9,6,47,7,Normal Weight,117/76,69,6800,None\\r\\n205,Male,43,Engineer,7.6,8,75,4,Overweight,122/80,68,6800,None\\r\\n206,Male,43,Engineer,7.7,8,90,5,Normal,130/85,70,8000,None\\r\\n207,Male,43,Engineer,7.7,8,90,5,Normal,130/85,70,8000,None\\r\\n208,Male,43,Engineer,7.7,8,90,5,Normal,130/85,70,8000,None\\r\\n209,Male,43,Engineer,7.7,8,90,5,Normal,130/85,70,8000,None\\r\\n210,Male,43,Engineer,7.8,8,90,5,Normal,130/85,70,8000,None\\r\\n211,Male,43,Engineer,7.7,8,90,5,Normal,130/85,70,8000,None\\r\\n212,Male,43,Engineer,7.8,8,90,5,Normal,130/85,70,8000,None\\r\\n213,Male,43,Engineer,7.8,8,90,5,Normal,130/85,70,8000,None\\r\\n214,Male,43,Engineer,7.8,8,90,5,Normal,130/85,70,8000,None\\r\\n215,Male,43,Engineer,7.8,8,90,5,Normal,130/85,70,8000,None\\r\\n216,Male,43,Engineer,7.8,8,90,5,Normal,130/85,70,8000,None\\r\\n217,Male,43,Engineer,7.8,8,90,5,Normal,130/85,70,8000,None\\r\\n218,Male,43,Engineer,7.8,8,90,5,Normal,130/85,70,8000,None\\r\\n219,Male,43,Engineer,7.8,8,90,5,Normal,130/85,70,8000,Sleep Apnea\\r\\n220,Male,43,Salesperson,6.5,6,45,7,Overweight,130/85,72,6000,Sleep Apnea\\r\\n221,Female,44,Teacher,6.6,7,45,4,Overweight,135/90,65,6000,Insomnia\\r\\n222,Male,44,Salesperson,6.4,6,45,7,Overweight,130/85,72,6000,Insomnia\\r\\n223,Male,44,Salesperson,6.3,6,45,7,Overweight,130/85,72,6000,Insomnia\\r\\n224,Male,44,Salesperson,6.4,6,45,7,Overweight,130/85,72,6000,Insomnia\\r\\n225,Female,44,Teacher,6.6,7,45,4,Overweight,135/90,65,6000,Insomnia\\r\\n226,Male,44,Salesperson,6.3,6,45,7,Overweight,130/85,72,6000,Insomnia\\r\\n227,Female,44,Teacher,6.6,7,45,4,Overweight,135/90,65,6000,Insomnia\\r\\n228,Male,44,Salesperson,6.3,6,45,7,Overweight,130/85,72,6000,Insomnia\\r\\n229,Female,44,Teacher,6.6,7,45,4,Overweight,135/90,65,6000,Insomnia\\r\\n230,Male,44,Salesperson,6.3,6,45,7,Overweight,130/85,72,6000,Insomnia\\r\\n231,Female,44,Teacher,6.6,7,45,4,Overweight,135/90,65,6000,Insomnia\\r\\n232,Male,44,Salesperson,6.3,6,45,7,Overweight,130/85,72,6000,Insomnia\\r\\n233,Female,44,Teacher,6.6,7,45,4,Overweight,135/90,65,6000,Insomnia\\r\\n234,Male,44,Salesperson,6.3,6,45,7,Overweight,130/85,72,6000,Insomnia\\r\\n235,Female,44,Teacher,6.6,7,45,4,Overweight,135/90,65,6000,Insomnia\\r\\n236,Male,44,Salesperson,6.3,6,45,7,Overweight,130/85,72,6000,Insomnia\\r\\n237,Male,44,Salesperson,6.4,6,45,7,Overweight,130/85,72,6000,Insomnia\\r\\n238,Female,44,Teacher,6.5,7,45,4,Overweight,135/90,65,6000,Insomnia\\r\\n239,Male,44,Salesperson,6.3,6,45,7,Overweight,130/85,72,6000,Insomnia\\r\\n240,Male,44,Salesperson,6.4,6,45,7,Overweight,130/85,72,6000,Insomnia\\r\\n241,Female,44,Teacher,6.5,7,45,4,Overweight,135/90,65,6000,Insomnia\\r\\n242,Male,44,Salesperson,6.3,6,45,7,Overweight,130/85,72,6000,Insomnia\\r\\n243,Male,44,Salesperson,6.4,6,45,7,Overweight,130/85,72,6000,Insomnia\\r\\n244,Female,44,Teacher,6.5,7,45,4,Overweight,135/90,65,6000,Insomnia\\r\\n245,Male,44,Salesperson,6.3,6,45,7,Overweight,130/85,72,6000,Insomnia\\r\\n246,Female,44,Teacher,6.5,7,45,4,Overweight,135/90,65,6000,Insomnia\\r\\n247,Male,44,Salesperson,6.3,6,45,7,Overweight,130/85,72,6000,Insomnia\\r\\n248,Male,44,Engineer,6.8,7,45,7,Overweight,130/85,78,5000,Insomnia\\r\\n249,Male,44,Salesperson,6.4,6,45,7,Overweight,130/85,72,6000,None\\r\\n250,Male,44,Salesperson,6.5,6,45,7,Overweight,130/85,72,6000,None\\r\\n251,Female,45,Teacher,6.8,7,30,6,Overweight,135/90,65,6000,Insomnia\\r\\n252,Female,45,Teacher,6.8,7,30,6,Overweight,135/90,65,6000,Insomnia\\r\\n253,Female,45,Teacher,6.5,7,45,4,Overweight,135/90,65,6000,Insomnia\\r\\n254,Female,45,Teacher,6.5,7,45,4,Overweight,135/90,65,6000,Insomnia\\r\\n255,Female,45,Teacher,6.5,7,45,4,Overweight,135/90,65,6000,Insomnia\\r\\n256,Female,45,Teacher,6.5,7,45,4,Overweight,135/90,65,6000,Insomnia\\r\\n257,Female,45,Teacher,6.6,7,45,4,Overweight,135/90,65,6000,Insomnia\\r\\n258,Female,45,Teacher,6.6,7,45,4,Overweight,135/90,65,6000,Insomnia\\r\\n259,Female,45,Teacher,6.6,7,45,4,Overweight,135/90,65,6000,Insomnia\\r\\n260,Female,45,Teacher,6.6,7,45,4,Overweight,135/90,65,6000,Insomnia\\r\\n261,Female,45,Teacher,6.6,7,45,4,Overweight,135/90,65,6000,Insomnia\\r\\n262,Female,45,Teacher,6.6,7,45,4,Overweight,135/90,65,6000,None\\r\\n263,Female,45,Teacher,6.6,7,45,4,Overweight,135/90,65,6000,None\\r\\n264,Female,45,Manager,6.9,7,55,5,Overweight,125/82,75,5500,None\\r\\n265,Male,48,Doctor,7.3,7,65,5,Obese,142/92,83,3500,Insomnia\\r\\n266,Female,48,Nurse,5.9,6,90,8,Overweight,140/95,75,10000,Sleep Apnea\\r\\n267,Male,48,Doctor,7.3,7,65,5,Obese,142/92,83,3500,Insomnia\\r\\n268,Female,49,Nurse,6.2,6,90,8,Overweight,140/95,75,10000,None\\r\\n269,Female,49,Nurse,6,6,90,8,Overweight,140/95,75,10000,Sleep Apnea\\r\\n270,Female,49,Nurse,6.1,6,90,8,Overweight,140/95,75,10000,Sleep Apnea\\r\\n271,Female,49,Nurse,6.1,6,90,8,Overweight,140/95,75,10000,Sleep Apnea\\r\\n272,Female,49,Nurse,6.1,6,90,8,Overweight,140/95,75,10000,Sleep Apnea\\r\\n273,Female,49,Nurse,6.1,6,90,8,Overweight,140/95,75,10000,Sleep Apnea\\r\\n274,Female,49,Nurse,6.2,6,90,8,Overweight,140/95,75,10000,Sleep Apnea\\r\\n275,Female,49,Nurse,6.2,6,90,8,Overweight,140/95,75,10000,Sleep Apnea\\r\\n276,Female,49,Nurse,6.2,6,90,8,Overweight,140/95,75,10000,Sleep Apnea\\r\\n277,Male,49,Doctor,8.1,9,85,3,Obese,139/91,86,3700,Sleep Apnea\\r\\n278,Male,49,Doctor,8.1,9,85,3,Obese,139/91,86,3700,Sleep Apnea\\r\\n279,Female,50,Nurse,6.1,6,90,8,Overweight,140/95,75,10000,Insomnia\\r\\n280,Female,50,Engineer,8.3,9,30,3,Normal,125/80,65,5000,None\\r\\n281,Female,50,Nurse,6,6,90,8,Overweight,140/95,75,10000,None\\r\\n282,Female,50,Nurse,6.1,6,90,8,Overweight,140/95,75,10000,Sleep Apnea\\r\\n283,Female,50,Nurse,6,6,90,8,Overweight,140/95,75,10000,Sleep Apnea\\r\\n284,Female,50,Nurse,6,6,90,8,Overweight,140/95,75,10000,Sleep Apnea\\r\\n285,Female,50,Nurse,6,6,90,8,Overweight,140/95,75,10000,Sleep Apnea\\r\\n286,Female,50,Nurse,6,6,90,8,Overweight,140/95,75,10000,Sleep Apnea\\r\\n287,Female,50,Nurse,6,6,90,8,Overweight,140/95,75,10000,Sleep Apnea\\r\\n288,Female,50,Nurse,6,6,90,8,Overweight,140/95,75,10000,Sleep Apnea\\r\\n289,Female,50,Nurse,6,6,90,8,Overweight,140/95,75,10000,Sleep Apnea\\r\\n290,Female,50,Nurse,6.1,6,90,8,Overweight,140/95,75,10000,Sleep Apnea\\r\\n291,Female,50,Nurse,6,6,90,8,Overweight,140/95,75,10000,Sleep Apnea\\r\\n292,Female,50,Nurse,6.1,6,90,8,Overweight,140/95,75,10000,Sleep Apnea\\r\\n293,Female,50,Nurse,6.1,6,90,8,Overweight,140/95,75,10000,Sleep Apnea\\r\\n294,Female,50,Nurse,6,6,90,8,Overweight,140/95,75,10000,Sleep Apnea\\r\\n295,Female,50,Nurse,6.1,6,90,8,Overweight,140/95,75,10000,Sleep Apnea\\r\\n296,Female,50,Nurse,6,6,90,8,Overweight,140/95,75,10000,Sleep Apnea\\r\\n297,Female,50,Nurse,6.1,6,90,8,Overweight,140/95,75,10000,Sleep Apnea\\r\\n298,Female,50,Nurse,6.1,6,90,8,Overweight,140/95,75,10000,Sleep Apnea\\r\\n299,Female,51,Engineer,8.5,9,30,3,Normal,125/80,65,5000,None\\r\\n300,Female,51,Engineer,8.5,9,30,3,Normal,125/80,65,5000,None\\r\\n301,Female,51,Engineer,8.5,9,30,3,Normal,125/80,65,5000,None\\r\\n302,Female,51,Engineer,8.5,9,30,3,Normal,125/80,65,5000,None\\r\\n303,Female,51,Nurse,7.1,7,55,6,Normal Weight,125/82,72,6000,None\\r\\n304,Female,51,Nurse,6,6,90,8,Overweight,140/95,75,10000,Sleep Apnea\\r\\n305,Female,51,Nurse,6.1,6,90,8,Overweight,140/95,75,10000,Sleep Apnea\\r\\n306,Female,51,Nurse,6.1,6,90,8,Overweight,140/95,75,10000,Sleep Apnea\\r\\n307,Female,52,Accountant,6.5,7,45,7,Overweight,130/85,72,6000,Insomnia\\r\\n308,Female,52,Accountant,6.5,7,45,7,Overweight,130/85,72,6000,Insomnia\\r\\n309,Female,52,Accountant,6.6,7,45,7,Overweight,130/85,72,6000,Insomnia\\r\\n310,Female,52,Accountant,6.6,7,45,7,Overweight,130/85,72,6000,Insomnia\\r\\n311,Female,52,Accountant,6.6,7,45,7,Overweight,130/85,72,6000,Insomnia\\r\\n312,Female,52,Accountant,6.6,7,45,7,Overweight,130/85,72,6000,Insomnia\\r\\n313,Female,52,Engineer,8.4,9,30,3,Normal,125/80,65,5000,None\\r\\n314,Female,52,Engineer,8.4,9,30,3,Normal,125/80,65,5000,None\\r\\n315,Female,52,Engineer,8.4,9,30,3,Normal,125/80,65,5000,None\\r\\n316,Female,53,Engineer,8.3,9,30,3,Normal,125/80,65,5000,Insomnia\\r\\n317,Female,53,Engineer,8.5,9,30,3,Normal,125/80,65,5000,None\\r\\n318,Female,53,Engineer,8.5,9,30,3,Normal,125/80,65,5000,None\\r\\n319,Female,53,Engineer,8.4,9,30,3,Normal,125/80,65,5000,None\\r\\n320,Female,53,Engineer,8.4,9,30,3,Normal,125/80,65,5000,None\\r\\n321,Female,53,Engineer,8.5,9,30,3,Normal,125/80,65,5000,None\\r\\n322,Female,53,Engineer,8.4,9,30,3,Normal,125/80,65,5000,None\\r\\n323,Female,53,Engineer,8.4,9,30,3,Normal,125/80,65,5000,None\\r\\n324,Female,53,Engineer,8.5,9,30,3,Normal,125/80,65,5000,None\\r\\n325,Female,53,Engineer,8.3,9,30,3,Normal,125/80,65,5000,None\\r\\n326,Female,53,Engineer,8.5,9,30,3,Normal,125/80,65,5000,None\\r\\n327,Female,53,Engineer,8.3,9,30,3,Normal,125/80,65,5000,None\\r\\n328,Female,53,Engineer,8.5,9,30,3,Normal,125/80,65,5000,None\\r\\n329,Female,53,Engineer,8.3,9,30,3,Normal,125/80,65,5000,None\\r\\n330,Female,53,Engineer,8.5,9,30,3,Normal,125/80,65,5000,None\\r\\n331,Female,53,Engineer,8.5,9,30,3,Normal,125/80,65,5000,None\\r\\n332,Female,53,Engineer,8.4,9,30,3,Normal,125/80,65,5000,None\\r\\n333,Female,54,Engineer,8.4,9,30,3,Normal,125/80,65,5000,None\\r\\n334,Female,54,Engineer,8.4,9,30,3,Normal,125/80,65,5000,None\\r\\n335,Female,54,Engineer,8.4,9,30,3,Normal,125/80,65,5000,None\\r\\n336,Female,54,Engineer,8.4,9,30,3,Normal,125/80,65,5000,None\\r\\n337,Female,54,Engineer,8.4,9,30,3,Normal,125/80,65,5000,None\\r\\n338,Female,54,Engineer,8.4,9,30,3,Normal,125/80,65,5000,None\\r\\n339,Female,54,Engineer,8.5,9,30,3,Normal,125/80,65,5000,None\\r\\n340,Female,55,Nurse,8.1,9,75,4,Overweight,140/95,72,5000,Sleep Apnea\\r\\n341,Female,55,Nurse,8.1,9,75,4,Overweight,140/95,72,5000,Sleep Apnea\\r\\n342,Female,56,Doctor,8.2,9,90,3,Normal Weight,118/75,65,10000,None\\r\\n343,Female,56,Doctor,8.2,9,90,3,Normal Weight,118/75,65,10000,None\\r\\n344,Female,57,Nurse,8.1,9,75,3,Overweight,140/95,68,7000,None\\r\\n345,Female,57,Nurse,8.2,9,75,3,Overweight,140/95,68,7000,Sleep Apnea\\r\\n346,Female,57,Nurse,8.2,9,75,3,Overweight,140/95,68,7000,Sleep Apnea\\r\\n347,Female,57,Nurse,8.2,9,75,3,Overweight,140/95,68,7000,Sleep Apnea\\r\\n348,Female,57,Nurse,8.2,9,75,3,Overweight,140/95,68,7000,Sleep Apnea\\r\\n349,Female,57,Nurse,8.2,9,75,3,Overweight,140/95,68,7000,Sleep Apnea\\r\\n350,Female,57,Nurse,8.1,9,75,3,Overweight,140/95,68,7000,Sleep Apnea\\r\\n351,Female,57,Nurse,8.1,9,75,3,Overweight,140/95,68,7000,Sleep Apnea\\r\\n352,Female,57,Nurse,8.1,9,75,3,Overweight,140/95,68,7000,Sleep Apnea\\r\\n353,Female,58,Nurse,8,9,75,3,Overweight,140/95,68,7000,Sleep Apnea\\r\\n354,Female,58,Nurse,8,9,75,3,Overweight,140/95,68,7000,Sleep Apnea\\r\\n355,Female,58,Nurse,8,9,75,3,Overweight,140/95,68,7000,Sleep Apnea\\r\\n356,Female,58,Nurse,8,9,75,3,Overweight,140/95,68,7000,Sleep Apnea\\r\\n357,Female,58,Nurse,8,9,75,3,Overweight,140/95,68,7000,Sleep Apnea\\r\\n358,Female,58,Nurse,8,9,75,3,Overweight,140/95,68,7000,Sleep Apnea\\r\\n359,Female,59,Nurse,8,9,75,3,Overweight,140/95,68,7000,None\\r\\n360,Female,59,Nurse,8.1,9,75,3,Overweight,140/95,68,7000,None\\r\\n361,Female,59,Nurse,8.2,9,75,3,Overweight,140/95,68,7000,Sleep Apnea\\r\\n362,Female,59,Nurse,8.2,9,75,3,Overweight,140/95,68,7000,Sleep Apnea\\r\\n363,Female,59,Nurse,8.2,9,75,3,Overweight,140/95,68,7000,Sleep Apnea\\r\\n364,Female,59,Nurse,8.2,9,75,3,Overweight,140/95,68,7000,Sleep Apnea\\r\\n365,Female,59,Nurse,8,9,75,3,Overweight,140/95,68,7000,Sleep Apnea\\r\\n366,Female,59,Nurse,8,9,75,3,Overweight,140/95,68,7000,Sleep Apnea\\r\\n367,Female,59,Nurse,8.1,9,75,3,Overweight,140/95,68,7000,Sleep Apnea\\r\\n368,Female,59,Nurse,8,9,75,3,Overweight,140/95,68,7000,Sleep Apnea\\r\\n369,Female,59,Nurse,8.1,9,75,3,Overweight,140/95,68,7000,Sleep Apnea\\r\\n370,Female,59,Nurse,8.1,9,75,3,Overweight,140/95,68,7000,Sleep Apnea\\r\\n371,Female,59,Nurse,8,9,75,3,Overweight,140/95,68,7000,Sleep Apnea\\r\\n372,Female,59,Nurse,8.1,9,75,3,Overweight,140/95,68,7000,Sleep Apnea\\r\\n373,Female,59,Nurse,8.1,9,75,3,Overweight,140/95,68,7000,Sleep Apnea\\r\\n374,Female,59,Nurse,8.1,9,75,3,Overweight,140/95,68,7000,Sleep Apnea'}"
            ]
          },
          "metadata": {},
          "execution_count": 206
        }
      ]
    },
    {
      "cell_type": "code",
      "source": [
        "df = pd.read_csv('Sleep_health_and_lifestyle_dataset.csv')"
      ],
      "metadata": {
        "id": "S2NmHyrPABhz"
      },
      "execution_count": null,
      "outputs": []
    },
    {
      "cell_type": "markdown",
      "source": [
        "Вывод первых 10 строк таблицы"
      ],
      "metadata": {
        "id": "Ld5GUkc-sTZT"
      }
    },
    {
      "cell_type": "code",
      "source": [
        "df.head(10)"
      ],
      "metadata": {
        "colab": {
          "base_uri": "https://localhost:8080/",
          "height": 363
        },
        "id": "W0kpPn-wHKdW",
        "outputId": "b90826fe-f2a9-4096-dec2-9f47ac9ce5a3"
      },
      "execution_count": null,
      "outputs": [
        {
          "output_type": "execute_result",
          "data": {
            "text/plain": [
              "   Person ID Gender  Age            Occupation  Sleep Duration  \\\n",
              "0          1   Male   27     Software Engineer             6.1   \n",
              "1          2   Male   28                Doctor             6.2   \n",
              "2          3   Male   28                Doctor             6.2   \n",
              "3          4   Male   28  Sales Representative             5.9   \n",
              "4          5   Male   28  Sales Representative             5.9   \n",
              "5          6   Male   28     Software Engineer             5.9   \n",
              "6          7   Male   29               Teacher             6.3   \n",
              "7          8   Male   29                Doctor             7.8   \n",
              "8          9   Male   29                Doctor             7.8   \n",
              "9         10   Male   29                Doctor             7.8   \n",
              "\n",
              "   Quality of Sleep  Physical Activity Level  Stress Level BMI Category  \\\n",
              "0                 6                       42             6   Overweight   \n",
              "1                 6                       60             8       Normal   \n",
              "2                 6                       60             8       Normal   \n",
              "3                 4                       30             8        Obese   \n",
              "4                 4                       30             8        Obese   \n",
              "5                 4                       30             8        Obese   \n",
              "6                 6                       40             7        Obese   \n",
              "7                 7                       75             6       Normal   \n",
              "8                 7                       75             6       Normal   \n",
              "9                 7                       75             6       Normal   \n",
              "\n",
              "  Blood Pressure  Heart Rate  Daily Steps Sleep Disorder  \n",
              "0         126/83          77         4200           None  \n",
              "1         125/80          75        10000           None  \n",
              "2         125/80          75        10000           None  \n",
              "3         140/90          85         3000    Sleep Apnea  \n",
              "4         140/90          85         3000    Sleep Apnea  \n",
              "5         140/90          85         3000       Insomnia  \n",
              "6         140/90          82         3500       Insomnia  \n",
              "7         120/80          70         8000           None  \n",
              "8         120/80          70         8000           None  \n",
              "9         120/80          70         8000           None  "
            ],
            "text/html": [
              "\n",
              "\n",
              "  <div id=\"df-9b62a790-a89d-4206-944d-fff2af46cef3\">\n",
              "    <div class=\"colab-df-container\">\n",
              "      <div>\n",
              "<style scoped>\n",
              "    .dataframe tbody tr th:only-of-type {\n",
              "        vertical-align: middle;\n",
              "    }\n",
              "\n",
              "    .dataframe tbody tr th {\n",
              "        vertical-align: top;\n",
              "    }\n",
              "\n",
              "    .dataframe thead th {\n",
              "        text-align: right;\n",
              "    }\n",
              "</style>\n",
              "<table border=\"1\" class=\"dataframe\">\n",
              "  <thead>\n",
              "    <tr style=\"text-align: right;\">\n",
              "      <th></th>\n",
              "      <th>Person ID</th>\n",
              "      <th>Gender</th>\n",
              "      <th>Age</th>\n",
              "      <th>Occupation</th>\n",
              "      <th>Sleep Duration</th>\n",
              "      <th>Quality of Sleep</th>\n",
              "      <th>Physical Activity Level</th>\n",
              "      <th>Stress Level</th>\n",
              "      <th>BMI Category</th>\n",
              "      <th>Blood Pressure</th>\n",
              "      <th>Heart Rate</th>\n",
              "      <th>Daily Steps</th>\n",
              "      <th>Sleep Disorder</th>\n",
              "    </tr>\n",
              "  </thead>\n",
              "  <tbody>\n",
              "    <tr>\n",
              "      <th>0</th>\n",
              "      <td>1</td>\n",
              "      <td>Male</td>\n",
              "      <td>27</td>\n",
              "      <td>Software Engineer</td>\n",
              "      <td>6.1</td>\n",
              "      <td>6</td>\n",
              "      <td>42</td>\n",
              "      <td>6</td>\n",
              "      <td>Overweight</td>\n",
              "      <td>126/83</td>\n",
              "      <td>77</td>\n",
              "      <td>4200</td>\n",
              "      <td>None</td>\n",
              "    </tr>\n",
              "    <tr>\n",
              "      <th>1</th>\n",
              "      <td>2</td>\n",
              "      <td>Male</td>\n",
              "      <td>28</td>\n",
              "      <td>Doctor</td>\n",
              "      <td>6.2</td>\n",
              "      <td>6</td>\n",
              "      <td>60</td>\n",
              "      <td>8</td>\n",
              "      <td>Normal</td>\n",
              "      <td>125/80</td>\n",
              "      <td>75</td>\n",
              "      <td>10000</td>\n",
              "      <td>None</td>\n",
              "    </tr>\n",
              "    <tr>\n",
              "      <th>2</th>\n",
              "      <td>3</td>\n",
              "      <td>Male</td>\n",
              "      <td>28</td>\n",
              "      <td>Doctor</td>\n",
              "      <td>6.2</td>\n",
              "      <td>6</td>\n",
              "      <td>60</td>\n",
              "      <td>8</td>\n",
              "      <td>Normal</td>\n",
              "      <td>125/80</td>\n",
              "      <td>75</td>\n",
              "      <td>10000</td>\n",
              "      <td>None</td>\n",
              "    </tr>\n",
              "    <tr>\n",
              "      <th>3</th>\n",
              "      <td>4</td>\n",
              "      <td>Male</td>\n",
              "      <td>28</td>\n",
              "      <td>Sales Representative</td>\n",
              "      <td>5.9</td>\n",
              "      <td>4</td>\n",
              "      <td>30</td>\n",
              "      <td>8</td>\n",
              "      <td>Obese</td>\n",
              "      <td>140/90</td>\n",
              "      <td>85</td>\n",
              "      <td>3000</td>\n",
              "      <td>Sleep Apnea</td>\n",
              "    </tr>\n",
              "    <tr>\n",
              "      <th>4</th>\n",
              "      <td>5</td>\n",
              "      <td>Male</td>\n",
              "      <td>28</td>\n",
              "      <td>Sales Representative</td>\n",
              "      <td>5.9</td>\n",
              "      <td>4</td>\n",
              "      <td>30</td>\n",
              "      <td>8</td>\n",
              "      <td>Obese</td>\n",
              "      <td>140/90</td>\n",
              "      <td>85</td>\n",
              "      <td>3000</td>\n",
              "      <td>Sleep Apnea</td>\n",
              "    </tr>\n",
              "    <tr>\n",
              "      <th>5</th>\n",
              "      <td>6</td>\n",
              "      <td>Male</td>\n",
              "      <td>28</td>\n",
              "      <td>Software Engineer</td>\n",
              "      <td>5.9</td>\n",
              "      <td>4</td>\n",
              "      <td>30</td>\n",
              "      <td>8</td>\n",
              "      <td>Obese</td>\n",
              "      <td>140/90</td>\n",
              "      <td>85</td>\n",
              "      <td>3000</td>\n",
              "      <td>Insomnia</td>\n",
              "    </tr>\n",
              "    <tr>\n",
              "      <th>6</th>\n",
              "      <td>7</td>\n",
              "      <td>Male</td>\n",
              "      <td>29</td>\n",
              "      <td>Teacher</td>\n",
              "      <td>6.3</td>\n",
              "      <td>6</td>\n",
              "      <td>40</td>\n",
              "      <td>7</td>\n",
              "      <td>Obese</td>\n",
              "      <td>140/90</td>\n",
              "      <td>82</td>\n",
              "      <td>3500</td>\n",
              "      <td>Insomnia</td>\n",
              "    </tr>\n",
              "    <tr>\n",
              "      <th>7</th>\n",
              "      <td>8</td>\n",
              "      <td>Male</td>\n",
              "      <td>29</td>\n",
              "      <td>Doctor</td>\n",
              "      <td>7.8</td>\n",
              "      <td>7</td>\n",
              "      <td>75</td>\n",
              "      <td>6</td>\n",
              "      <td>Normal</td>\n",
              "      <td>120/80</td>\n",
              "      <td>70</td>\n",
              "      <td>8000</td>\n",
              "      <td>None</td>\n",
              "    </tr>\n",
              "    <tr>\n",
              "      <th>8</th>\n",
              "      <td>9</td>\n",
              "      <td>Male</td>\n",
              "      <td>29</td>\n",
              "      <td>Doctor</td>\n",
              "      <td>7.8</td>\n",
              "      <td>7</td>\n",
              "      <td>75</td>\n",
              "      <td>6</td>\n",
              "      <td>Normal</td>\n",
              "      <td>120/80</td>\n",
              "      <td>70</td>\n",
              "      <td>8000</td>\n",
              "      <td>None</td>\n",
              "    </tr>\n",
              "    <tr>\n",
              "      <th>9</th>\n",
              "      <td>10</td>\n",
              "      <td>Male</td>\n",
              "      <td>29</td>\n",
              "      <td>Doctor</td>\n",
              "      <td>7.8</td>\n",
              "      <td>7</td>\n",
              "      <td>75</td>\n",
              "      <td>6</td>\n",
              "      <td>Normal</td>\n",
              "      <td>120/80</td>\n",
              "      <td>70</td>\n",
              "      <td>8000</td>\n",
              "      <td>None</td>\n",
              "    </tr>\n",
              "  </tbody>\n",
              "</table>\n",
              "</div>\n",
              "      <button class=\"colab-df-convert\" onclick=\"convertToInteractive('df-9b62a790-a89d-4206-944d-fff2af46cef3')\"\n",
              "              title=\"Convert this dataframe to an interactive table.\"\n",
              "              style=\"display:none;\">\n",
              "\n",
              "  <svg xmlns=\"http://www.w3.org/2000/svg\" height=\"24px\"viewBox=\"0 0 24 24\"\n",
              "       width=\"24px\">\n",
              "    <path d=\"M0 0h24v24H0V0z\" fill=\"none\"/>\n",
              "    <path d=\"M18.56 5.44l.94 2.06.94-2.06 2.06-.94-2.06-.94-.94-2.06-.94 2.06-2.06.94zm-11 1L8.5 8.5l.94-2.06 2.06-.94-2.06-.94L8.5 2.5l-.94 2.06-2.06.94zm10 10l.94 2.06.94-2.06 2.06-.94-2.06-.94-.94-2.06-.94 2.06-2.06.94z\"/><path d=\"M17.41 7.96l-1.37-1.37c-.4-.4-.92-.59-1.43-.59-.52 0-1.04.2-1.43.59L10.3 9.45l-7.72 7.72c-.78.78-.78 2.05 0 2.83L4 21.41c.39.39.9.59 1.41.59.51 0 1.02-.2 1.41-.59l7.78-7.78 2.81-2.81c.8-.78.8-2.07 0-2.86zM5.41 20L4 18.59l7.72-7.72 1.47 1.35L5.41 20z\"/>\n",
              "  </svg>\n",
              "      </button>\n",
              "\n",
              "\n",
              "\n",
              "    <div id=\"df-da2a60af-fa36-4fde-8ff5-aa9bcf64d36c\">\n",
              "      <button class=\"colab-df-quickchart\" onclick=\"quickchart('df-da2a60af-fa36-4fde-8ff5-aa9bcf64d36c')\"\n",
              "              title=\"Suggest charts.\"\n",
              "              style=\"display:none;\">\n",
              "\n",
              "<svg xmlns=\"http://www.w3.org/2000/svg\" height=\"24px\"viewBox=\"0 0 24 24\"\n",
              "     width=\"24px\">\n",
              "    <g>\n",
              "        <path d=\"M19 3H5c-1.1 0-2 .9-2 2v14c0 1.1.9 2 2 2h14c1.1 0 2-.9 2-2V5c0-1.1-.9-2-2-2zM9 17H7v-7h2v7zm4 0h-2V7h2v10zm4 0h-2v-4h2v4z\"/>\n",
              "    </g>\n",
              "</svg>\n",
              "      </button>\n",
              "    </div>\n",
              "\n",
              "<style>\n",
              "  .colab-df-quickchart {\n",
              "    background-color: #E8F0FE;\n",
              "    border: none;\n",
              "    border-radius: 50%;\n",
              "    cursor: pointer;\n",
              "    display: none;\n",
              "    fill: #1967D2;\n",
              "    height: 32px;\n",
              "    padding: 0 0 0 0;\n",
              "    width: 32px;\n",
              "  }\n",
              "\n",
              "  .colab-df-quickchart:hover {\n",
              "    background-color: #E2EBFA;\n",
              "    box-shadow: 0px 1px 2px rgba(60, 64, 67, 0.3), 0px 1px 3px 1px rgba(60, 64, 67, 0.15);\n",
              "    fill: #174EA6;\n",
              "  }\n",
              "\n",
              "  [theme=dark] .colab-df-quickchart {\n",
              "    background-color: #3B4455;\n",
              "    fill: #D2E3FC;\n",
              "  }\n",
              "\n",
              "  [theme=dark] .colab-df-quickchart:hover {\n",
              "    background-color: #434B5C;\n",
              "    box-shadow: 0px 1px 3px 1px rgba(0, 0, 0, 0.15);\n",
              "    filter: drop-shadow(0px 1px 2px rgba(0, 0, 0, 0.3));\n",
              "    fill: #FFFFFF;\n",
              "  }\n",
              "</style>\n",
              "\n",
              "    <script>\n",
              "      async function quickchart(key) {\n",
              "        const containerElement = document.querySelector('#' + key);\n",
              "        const charts = await google.colab.kernel.invokeFunction(\n",
              "            'suggestCharts', [key], {});\n",
              "      }\n",
              "    </script>\n",
              "\n",
              "      <script>\n",
              "\n",
              "function displayQuickchartButton(domScope) {\n",
              "  let quickchartButtonEl =\n",
              "    domScope.querySelector('#df-da2a60af-fa36-4fde-8ff5-aa9bcf64d36c button.colab-df-quickchart');\n",
              "  quickchartButtonEl.style.display =\n",
              "    google.colab.kernel.accessAllowed ? 'block' : 'none';\n",
              "}\n",
              "\n",
              "        displayQuickchartButton(document);\n",
              "      </script>\n",
              "      <style>\n",
              "    .colab-df-container {\n",
              "      display:flex;\n",
              "      flex-wrap:wrap;\n",
              "      gap: 12px;\n",
              "    }\n",
              "\n",
              "    .colab-df-convert {\n",
              "      background-color: #E8F0FE;\n",
              "      border: none;\n",
              "      border-radius: 50%;\n",
              "      cursor: pointer;\n",
              "      display: none;\n",
              "      fill: #1967D2;\n",
              "      height: 32px;\n",
              "      padding: 0 0 0 0;\n",
              "      width: 32px;\n",
              "    }\n",
              "\n",
              "    .colab-df-convert:hover {\n",
              "      background-color: #E2EBFA;\n",
              "      box-shadow: 0px 1px 2px rgba(60, 64, 67, 0.3), 0px 1px 3px 1px rgba(60, 64, 67, 0.15);\n",
              "      fill: #174EA6;\n",
              "    }\n",
              "\n",
              "    [theme=dark] .colab-df-convert {\n",
              "      background-color: #3B4455;\n",
              "      fill: #D2E3FC;\n",
              "    }\n",
              "\n",
              "    [theme=dark] .colab-df-convert:hover {\n",
              "      background-color: #434B5C;\n",
              "      box-shadow: 0px 1px 3px 1px rgba(0, 0, 0, 0.15);\n",
              "      filter: drop-shadow(0px 1px 2px rgba(0, 0, 0, 0.3));\n",
              "      fill: #FFFFFF;\n",
              "    }\n",
              "  </style>\n",
              "\n",
              "      <script>\n",
              "        const buttonEl =\n",
              "          document.querySelector('#df-9b62a790-a89d-4206-944d-fff2af46cef3 button.colab-df-convert');\n",
              "        buttonEl.style.display =\n",
              "          google.colab.kernel.accessAllowed ? 'block' : 'none';\n",
              "\n",
              "        async function convertToInteractive(key) {\n",
              "          const element = document.querySelector('#df-9b62a790-a89d-4206-944d-fff2af46cef3');\n",
              "          const dataTable =\n",
              "            await google.colab.kernel.invokeFunction('convertToInteractive',\n",
              "                                                     [key], {});\n",
              "          if (!dataTable) return;\n",
              "\n",
              "          const docLinkHtml = 'Like what you see? Visit the ' +\n",
              "            '<a target=\"_blank\" href=https://colab.research.google.com/notebooks/data_table.ipynb>data table notebook</a>'\n",
              "            + ' to learn more about interactive tables.';\n",
              "          element.innerHTML = '';\n",
              "          dataTable['output_type'] = 'display_data';\n",
              "          await google.colab.output.renderOutput(dataTable, element);\n",
              "          const docLink = document.createElement('div');\n",
              "          docLink.innerHTML = docLinkHtml;\n",
              "          element.appendChild(docLink);\n",
              "        }\n",
              "      </script>\n",
              "    </div>\n",
              "  </div>\n"
            ]
          },
          "metadata": {},
          "execution_count": 86
        }
      ]
    },
    {
      "cell_type": "markdown",
      "source": [
        "Функция определения коэффициента корреляции Пирсона и Кендела"
      ],
      "metadata": {
        "id": "z5q0RlkLsPHf"
      }
    },
    {
      "cell_type": "code",
      "source": [
        "def pirson(first_column, second_column):\n",
        "    global average_x, average_y, non, summ_down_f, summ_down_s, s, kendal\n",
        "    rez = []\n",
        "    s, summ_up, summ_down_f, summ_down_s = 0, 0, 0, 0\n",
        "    average_x = sum(first_column) / len(first_column)   #Среднее арифметическое, оно же мат. ожидание для 1-ого столбца\n",
        "    #print(average_x)\n",
        "    average_y = sum(second_column) / len(second_column) #Среднее арифметическое, оно же мат. ожидание для 2-ого столбца\n",
        "    #print(average_y)\n",
        "    non = float(len(second_column))\n",
        "    p_x = []\n",
        "    p_y = []\n",
        "    for i in range(len(first_column)):\n",
        "        sign_x = 0\n",
        "        sign_y = 0\n",
        "        row = []\n",
        "        m_x = first_column[i] - average_x\n",
        "        m_y = second_column[i] - average_y\n",
        "        summ_up += m_x * m_y\n",
        "        summ_down_f += m_x**2 #(x- Mx)**2\n",
        "        summ_down_s += m_y**2 #(y- My)**2\n",
        "        d_x = (1/non*summ_down_f)**(1/2)\n",
        "        #print('first_column[i] =', first_column[i])\n",
        "        a = e**(-e**(1.283*(average_x - first_column[i])/d_x - 0.5778))\n",
        "        p_x.append(a)\n",
        "        d_y = (1/non*summ_down_s)**(1/2)\n",
        "        b = e**(-e**(1.283*(average_y - second_column[i])/d_y - 0.5778))\n",
        "        p_y.append(b)\n",
        "        for j in range(len(first_column)):\n",
        "            m = first_column[j]-first_column[i]\n",
        "            n = second_column[j] - second_column[i]\n",
        "            if i >= j:\n",
        "                multi_t = 0\n",
        "                row.append(multi_t)\n",
        "                continue\n",
        "            if m > 0:\n",
        "                sign_x = 1\n",
        "            if n > 0:\n",
        "                sign_y = 1\n",
        "            if m == 0:\n",
        "                sign_x = 0\n",
        "            if n == 0:\n",
        "                sign_y = 0\n",
        "            if n < 0:\n",
        "                sign_y = -1\n",
        "            if m < 0:\n",
        "                sign_x = -1\n",
        "            multi_t = sign_x*sign_y\n",
        "            s += multi_t\n",
        "            sign_x = 0\n",
        "            sign_y = 0\n",
        "            row.append(multi_t)\n",
        "        rez.append(row)\n",
        "    #print(rez)\n",
        "    kendal = s*2/(non*(non-1))\n",
        "    #print('tau_kendal =', str(round(kendal, 4)))\n",
        "    tau = (summ_up)/((summ_down_f * summ_down_s)**(1/2))\n",
        "    #print(summ_up)\n",
        "    #print(summ_down_f)\n",
        "    #print(summ_down_s)\n",
        "    #print('tau =', str(round(tau, 4)))#Пирсон\n",
        "    return tau\n",
        "\n",
        "\n"
      ],
      "metadata": {
        "id": "4u9gG3K531sD"
      },
      "execution_count": null,
      "outputs": []
    },
    {
      "cell_type": "markdown",
      "source": [
        "Функция определения коэффициента корреляции Спирмена"
      ],
      "metadata": {
        "id": "G63FbeygsJjt"
      }
    },
    {
      "cell_type": "code",
      "source": [
        "def spirman(first_column, second_column):\n",
        "  p_x = []\n",
        "  p_y = []\n",
        "  for i in range(len(first_column)):\n",
        "    d_x = (1/non*summ_down_f)**(1/2)\n",
        "    #print('first_column[i] =', first_column[i])\n",
        "    a = e**(-e**(1.283*(average_x - first_column[i])/d_x - 0.5778))\n",
        "    p_x.append(a)\n",
        "    d_y = (1/non*summ_down_s)**(1/2)\n",
        "    b = e**(-e**(1.283*(average_y - second_column[i])/d_y - 0.5778))\n",
        "    p_y.append(b)\n",
        "  tau_spirman = pirson(p_x, p_y)\n",
        "  #print('tau_spirman =', tau_spirman)\n",
        "  #print('a =', a)\n",
        "  #print('b =', b)\n",
        "  #print('tau_spirman =', str(round(tau_spirman, 4)))\n",
        "  #print(tau_spirman)\n",
        "  #print(p_x)\n",
        "  #print(p_y)\n",
        "  return  tau_spirman"
      ],
      "metadata": {
        "id": "vag3v21WOAP2"
      },
      "execution_count": null,
      "outputs": []
    },
    {
      "cell_type": "markdown",
      "source": [
        "Результирующая функция, автоматически вызывающая остальные функции расчета коэффициентов корреляции"
      ],
      "metadata": {
        "id": "RzTbvbQHsG9j"
      }
    },
    {
      "cell_type": "code",
      "source": [
        "def analysis(one, two):\n",
        "  print('Коэффициент корреляции Пирсона - ', str(round(pirson(one, two), 4)))\n",
        "  print('Коэффициент корреляции Кендала - ', str(round(kendal, 4)))\n",
        "  print('Коэффициент корреляции Спирмена - ', str(round(spirman(one, two), 4)))\n",
        "  plt.scatter(one, two)\n"
      ],
      "metadata": {
        "id": "D1vPiZ4jAobq"
      },
      "execution_count": null,
      "outputs": []
    },
    {
      "cell_type": "markdown",
      "source": [
        "Анализ данных №1"
      ],
      "metadata": {
        "id": "cNOuyX9WsjGD"
      }
    },
    {
      "cell_type": "code",
      "source": [
        "analysis(df['Physical Activity Level'], df['Heart Rate'])"
      ],
      "metadata": {
        "colab": {
          "base_uri": "https://localhost:8080/",
          "height": 482
        },
        "id": "yHyMnsrcHbre",
        "outputId": "253a55ff-9526-4b9b-dfa4-9d8afa3f142f"
      },
      "execution_count": null,
      "outputs": [
        {
          "output_type": "stream",
          "name": "stdout",
          "text": [
            "Коэффициент корреляции Пирсона -  0.137\n",
            "Коэффициент корреляции Кендала -  0.1258\n",
            "Коэффициент корреляции Спирмена -  0.1497\n"
          ]
        },
        {
          "output_type": "display_data",
          "data": {
            "text/plain": [
              "<Figure size 640x480 with 1 Axes>"
            ],
            "image/png": "[encoded data removed]"
          },
          "metadata": {}
        }
      ]
    },
    {
      "cell_type": "markdown",
      "source": [
        "Гипотеза №1: Физическая активность влияет на пульс сердцебиения испытуемых на 15%."
      ],
      "metadata": {
        "id": "AVafGfLWs-uQ"
      }
    },
    {
      "cell_type": "markdown",
      "source": [
        "Анализ данных №2"
      ],
      "metadata": {
        "id": "rfOgN5EauKUN"
      }
    },
    {
      "cell_type": "code",
      "source": [
        "analysis(df['Stress Level'], df['Heart Rate'])"
      ],
      "metadata": {
        "colab": {
          "base_uri": "https://localhost:8080/",
          "height": 482
        },
        "id": "02KxXvOUuHYf",
        "outputId": "9cf92496-27c0-44a8-a3ca-0c84f27d8988"
      },
      "execution_count": null,
      "outputs": [
        {
          "output_type": "stream",
          "name": "stdout",
          "text": [
            "Коэффициент корреляции Пирсона -  0.67\n",
            "Коэффициент корреляции Кендала -  0.5899\n",
            "Коэффициент корреляции Спирмена -  0.8196\n"
          ]
        },
        {
          "output_type": "display_data",
          "data": {
            "text/plain": [
              "<Figure size 640x480 with 1 Axes>"
            ],
            "image/png": "[encoded data removed]"
          },
          "metadata": {}
        }
      ]
    },
    {
      "cell_type": "markdown",
      "source": [
        "Гипотеза №2: Общий уровень стресса испытуемых влияет на увеличение пульса сердцебиения на 82%."
      ],
      "metadata": {
        "id": "dzgaiOT5upvK"
      }
    },
    {
      "cell_type": "markdown",
      "source": [
        "Анализ данных №3"
      ],
      "metadata": {
        "id": "yVxDfcrmxDd3"
      }
    },
    {
      "cell_type": "code",
      "source": [
        "analysis(df['Sleep Duration'], df['Stress Level'])"
      ],
      "metadata": {
        "colab": {
          "base_uri": "https://localhost:8080/",
          "height": 482
        },
        "id": "40zCMv-wwchM",
        "outputId": "98bcc50e-8f05-417f-f6fc-51e479642bcf"
      },
      "execution_count": null,
      "outputs": [
        {
          "output_type": "stream",
          "name": "stdout",
          "text": [
            "Коэффициент корреляции Пирсона -  -0.811\n",
            "Коэффициент корреляции Кендала -  -0.5816\n",
            "Коэффициент корреляции Спирмена -  -0.7372\n"
          ]
        },
        {
          "output_type": "display_data",
          "data": {
            "text/plain": [
              "<Figure size 640x480 with 1 Axes>"
            ],
            "image/png": "[encoded data removed]"
          },
          "metadata": {}
        }
      ]
    },
    {
      "cell_type": "markdown",
      "source": [
        "Гипотеза №3: Увеличение продолжительности сна на 81% снижает общий уровень стресса испытуемых."
      ],
      "metadata": {
        "id": "NaUCkvDmxLM2"
      }
    }
  ]
}