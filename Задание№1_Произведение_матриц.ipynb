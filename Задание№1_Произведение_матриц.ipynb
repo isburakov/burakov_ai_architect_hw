{
  "nbformat": 4,
  "nbformat_minor": 0,
  "metadata": {
    "colab": {
      "provenance": [],
      "toc_visible": true
    },
    "kernelspec": {
      "name": "python3",
      "display_name": "Python 3"
    },
    "language_info": {
      "name": "python"
    }
  },
  "cells": [
    {
      "cell_type": "code",
      "execution_count": null,
      "metadata": {
        "colab": {
          "base_uri": "https://localhost:8080/"
        },
        "id": "nte0JyFU5X2J",
        "outputId": "5fc57625-8d99-4b6a-aee8-3a1c6e4e1451"
      },
      "outputs": [
        {
          "output_type": "stream",
          "name": "stdout",
          "text": [
            "[[10]]\n",
            "[[  -4  -13]\n",
            " [ 104 -102]\n",
            " [ -24   12]\n",
            " [  -4   -3]]\n"
          ]
        }
      ],
      "source": [
        "import numpy as np\n",
        "\n",
        "A = np.array([[1, 2, 1]],\n",
        "              [-2,1,1]])\n",
        "B = np.array([[1],\n",
        "              [1],\n",
        "              [4]])\n",
        "A2 = np.array([[-3, -7],\n",
        "                [-10, 6],\n",
        "                [0, -6],\n",
        "                [-1, -3]])\n",
        "B2 = np.array([[-8, 9],\n",
        "                [4, -2]])\n",
        "\n",
        "def multiply_matrix(A, B):\n",
        "  rows_A = len(A)\n",
        "  cols_A = len(A[0])\n",
        "  rows_B = len(B)\n",
        "  cols_B = len(B[0])\n",
        "  c0 = [[0 for row in range(cols_B)] for col in\n",
        "            range(rows_A)]\n",
        "  for i in range(len(A)):\n",
        "    for j in range(len(B[0])):\n",
        "      for k in range(len(B)):\n",
        "        c0[i][j] += A[i][k] * B[k][j]\n",
        "  c0 = np.matrix(c0)\n",
        "  print (c0)\n",
        "\n",
        "\n",
        "multiply_matrix(A1, B1)\n",
        "multiply_matrix(A2, B2)\n"
      ]
    }
  ]
}